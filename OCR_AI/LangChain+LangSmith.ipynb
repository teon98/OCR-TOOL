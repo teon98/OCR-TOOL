{
 "cells": [
  {
   "cell_type": "code",
   "execution_count": null,
   "id": "d66960eb-d95d-4fcc-ab6e-3ee47cad531a",
   "metadata": {},
   "outputs": [],
   "source": [
    "pip install openai langchain langsmith langchain_community langchain-openai"
   ]
  },
  {
   "cell_type": "code",
   "execution_count": null,
   "id": "77158c7c-b4d9-4650-a03b-94d4502108b6",
   "metadata": {},
   "outputs": [],
   "source": [
    "# 환경 변수 설정\n",
    "\n",
    "import os\n",
    "\n",
    "# OpenAI API key\n",
    "os.environ[\"OPENAI_API_KEY\"] = \"\"\n",
    "\n",
    "# LangSmith API Key & 프로젝트 이름\n",
    "os.environ[\"LANGCHAIN_API_KEY\"] = \"\"\n",
    "os.environ[\"LANGCHAIN_PROJECT\"] = \"OCR-AI\"  # 원하는 이름으로 지정\n",
    "\n",
    "# 선택적으로 디버깅용 로깅 활성화\n",
    "os.environ[\"LANGCHAIN_TRACING_V2\"] = \"true\""
   ]
  },
  {
   "cell_type": "code",
   "execution_count": 3,
   "id": "d3068cff-147f-4fcb-bbb2-7c20cacf6b73",
   "metadata": {},
   "outputs": [],
   "source": [
    "import base64\n",
    "\n",
    "# 이미지 파일을 base64로 인코딩\n",
    "def encode_image(image_path):\n",
    "    with open(image_path, \"rb\") as image_file:\n",
    "        return base64.b64encode(image_file.read()).decode(\"utf-8\")"
   ]
  },
  {
   "cell_type": "code",
   "execution_count": 13,
   "id": "1b4c7c9e-b825-4e1b-a767-94c2fb211f93",
   "metadata": {},
   "outputs": [],
   "source": [
    "from langchain_openai import ChatOpenAI\n",
    "from langchain.schema import HumanMessage\n",
    "from langchain_core.tracers import ConsoleCallbackHandler\n",
    "\n",
    "# 필드 목록 정의\n",
    "fields = [\n",
    "    \"접수번호\", \"성명\", \"소속\", \"지위\", \"생년월일\", \"전화번호\", \"주소\", \"입사일자\", \"실 근속년 수\",\n",
    "    \"신청금액\", \"자금용도\", \"대출기일\", \"상환예정일\", \"담보 여건\", \"신청날짜\", \"신청인\"\n",
    "]\n",
    "\n",
    "# 프롬프트 템플릿\n",
    "prompt_template = \"\"\"\n",
    "아래 이미지를 보고 다음 필드들을 추출해 JSON 형태로 작성해 주세요. 모든 값은 문자열로 반환하세요.\n",
    "필드 목록:\n",
    "{field_list}\n",
    "\n",
    "반드시 아래 형식을 따르세요:\n",
    "\n",
    "{{\n",
    "  \"접수번호\": \"...\",\n",
    "  \"성명\": \"...\",\n",
    "  ...\n",
    "  \"신청인\": \"...\"\n",
    "}}\n",
    "\"\"\"\n",
    "\n",
    "prompt = prompt_template.format(field_list=\"\\n\".join(fields))\n",
    "\n",
    "# 이미지 인코딩\n",
    "image_path = \"../documents/직원대출신청서_5개모음집_pages-to-jpg-0001.jpg\"  # 로컬 이미지 경로\n",
    "base64_image = encode_image(image_path)\n",
    "\n",
    "# LangSmith 추적 핸들러\n",
    "handler = ConsoleCallbackHandler()\n",
    "\n",
    "# GPT-4o로 설정\n",
    "llm = ChatOpenAI(\n",
    "    model=\"gpt-4o\",\n",
    "    temperature=0,\n",
    "    callbacks=[handler],  # LangSmith로 자동 전송\n",
    ")\n",
    "\n",
    "# 메시지 생성 (텍스트 + 이미지)\n",
    "message = HumanMessage(content=[\n",
    "    {\"type\": \"text\", \"text\": prompt},\n",
    "    {\n",
    "        \"type\": \"image_url\",\n",
    "        \"image_url\": {\n",
    "            \"url\": f\"data:image/jpeg;base64,{base64_image}\"\n",
    "        }\n",
    "    }\n",
    "])"
   ]
  },
  {
   "cell_type": "code",
   "execution_count": null,
   "id": "4bd7762c-04d4-4d8b-8003-730ad8014ab9",
   "metadata": {},
   "outputs": [],
   "source": [
    "# GPT 호출\n",
    "response = llm.invoke([message])"
   ]
  },
  {
   "cell_type": "code",
   "execution_count": 16,
   "id": "2440c841-d4fd-446c-91c5-d09a6a9dddc9",
   "metadata": {},
   "outputs": [
    {
     "name": "stdout",
     "output_type": "stream",
     "text": [
      "```json\n",
      "{\n",
      "  \"접수번호\": \"20250401\",\n",
      "  \"성명\": \"김하늘\",\n",
      "  \"소속\": \"마케팅팀\",\n",
      "  \"지위\": \"대리\",\n",
      "  \"생년월일\": \"1990-06-15\",\n",
      "  \"전화번호\": \"010-1234-5678\",\n",
      "  \"주소\": \"서울특별시 강남구 테헤란로 123\",\n",
      "  \"입사일자\": \"2018년 3월 1일\",\n",
      "  \"실 근속년 수\": \"6년 1개월\",\n",
      "  \"신청금액\": \"삼백만원 (₩ 3,000,000)\",\n",
      "  \"자금용도\": \"의료비\",\n",
      "  \"대출기일\": \"2025년 6월 1일\",\n",
      "  \"상환예정일\": \"2026년 6월 1일\",\n",
      "  \"담보 여건\": \"무담보\",\n",
      "  \"신청날짜\": \"2025년 4월 22일\",\n",
      "  \"신청인\": \"김하늘\"\n",
      "}\n",
      "```\n"
     ]
    }
   ],
   "source": [
    "print(response.content)"
   ]
  },
  {
   "cell_type": "code",
   "execution_count": null,
   "id": "53e38770-e610-4b8d-9431-6f22c87d98b4",
   "metadata": {},
   "outputs": [],
   "source": []
  }
 ],
 "metadata": {
  "kernelspec": {
   "display_name": "Python 3 (ipykernel)",
   "language": "python",
   "name": "python3"
  },
  "language_info": {
   "codemirror_mode": {
    "name": "ipython",
    "version": 3
   },
   "file_extension": ".py",
   "mimetype": "text/x-python",
   "name": "python",
   "nbconvert_exporter": "python",
   "pygments_lexer": "ipython3",
   "version": "3.13.2"
  }
 },
 "nbformat": 4,
 "nbformat_minor": 5
}
