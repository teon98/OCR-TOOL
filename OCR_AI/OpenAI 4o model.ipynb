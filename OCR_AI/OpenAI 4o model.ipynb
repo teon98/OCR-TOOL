{
 "cells": [
  {
   "cell_type": "markdown",
   "id": "e790dfe1-b353-4108-ae91-3a98bb4e15e6",
   "metadata": {},
   "source": [
    "### GPT-4o 모델\n",
    "\n",
    "2024년 4월에 나온 모델로 이미지, 음성, 텍스트 멀티모달 입력 처리에 성능이 우수하다. <br/>\n",
    "input으로 받을 수 있는 img 형태는 img url 또는 base64인코딩 이다."
   ]
  },
  {
   "cell_type": "code",
   "execution_count": null,
   "id": "c015d8a5-311e-4d9b-812e-6598a595061d",
   "metadata": {},
   "outputs": [],
   "source": [
    "pip install openai"
   ]
  },
  {
   "cell_type": "code",
   "execution_count": null,
   "id": "d00cd0a9-e60e-4a21-8342-cbb6629f47cf",
   "metadata": {},
   "outputs": [],
   "source": [
    "import os\n",
    "\n",
    "# API 키 설정\n",
    "os.environ[\"OPENAI_API_KEY\"] = \"\""
   ]
  },
  {
   "cell_type": "code",
   "execution_count": 23,
   "id": "9f2cb7c1-b1e4-4f8e-b1f4-7829cfab8a32",
   "metadata": {},
   "outputs": [],
   "source": [
    "import base64\n",
    "\n",
    "# 이미지 파일을 base64로 인코딩\n",
    "def encode_image(image_path):\n",
    "    with open(image_path, \"rb\") as image_file:\n",
    "        return base64.b64encode(image_file.read()).decode(\"utf-8\")"
   ]
  },
  {
   "cell_type": "code",
   "execution_count": 31,
   "id": "696d937c-8518-4bd4-b985-84c7eeb2f04f",
   "metadata": {},
   "outputs": [],
   "source": [
    "from openai import OpenAI\n",
    "\n",
    "client = OpenAI()\n",
    "\n",
    "# 이미지 경로\n",
    "image_path = \"../documents/직원대출신청서_5개모음집_pages-to-jpg-0001.jpg\" \n",
    "\n",
    "# base64 인코딩된 이미지\n",
    "base64_image = encode_image(image_path)\n",
    "\n",
    "# GPT-4o 모델 사용\n",
    "response = client.chat.completions.create(\n",
    "    model=\"gpt-4o\",\n",
    "    messages=[\n",
    "        {\n",
    "            \"role\": \"user\",\n",
    "            \"content\": [\n",
    "                { \"type\": \"text\", \n",
    "                  \"text\": \"해당 이미지에서 접수번호, 성명, 소속, 지위, 생년월일, 전화번호, 주소, 입사일자, 실 근속년 수, 신청금액, 자금용도, 대출기일, 상환예정일, 담보 여건, 신청날짜, 신청인을 추출해서 JSON 형태로 반환해줘\" },\n",
    "                {\n",
    "                    \"type\": \"image_url\",\n",
    "                    \"image_url\": {\n",
    "                        \"url\": f\"data:image/jpeg;base64,{base64_image}\"\n",
    "                    }\n",
    "                }\n",
    "            ]\n",
    "        }\n",
    "    ]\n",
    ")\n"
   ]
  },
  {
   "cell_type": "code",
   "execution_count": 32,
   "id": "e0c9dbfe-90a6-4687-a17e-b2c4640099b7",
   "metadata": {},
   "outputs": [
    {
     "name": "stdout",
     "output_type": "stream",
     "text": [
      "```json\n",
      "{\n",
      "  \"접수번호\": \"20250401\",\n",
      "  \"성명\": \"김하늘\",\n",
      "  \"소속\": \"마케팅\",\n",
      "  \"지위\": \"대리\",\n",
      "  \"생년월일\": \"1992-06-15\",\n",
      "  \"전화번호\": \"010-1234-5678\",\n",
      "  \"주소\": \"서울특별시 강남구 테헤란로 123\",\n",
      "  \"입사일자\": \"2018년 3월 1일\",\n",
      "  \"실 근속년 수\": \"6년 1개월\",\n",
      "  \"신청금액\": \"삼백만 원정 (₩3,000,000)\",\n",
      "  \"자금용도\": \"의료비\",\n",
      "  \"대출기일\": \"2025년 6월 1일\",\n",
      "  \"상환예정일\": \"2026년 6월 1일\",\n",
      "  \"담보 여건\": \"무담보\",\n",
      "  \"신청날짜\": \"2025년 6월 22일\",\n",
      "  \"신청인\": \"김하늘\"\n",
      "}\n",
      "```\n"
     ]
    }
   ],
   "source": [
    "print(response.choices[0].message.content)"
   ]
  },
  {
   "cell_type": "code",
   "execution_count": null,
   "id": "e46f2267-78e4-42c5-8582-ca4f4b54bce8",
   "metadata": {},
   "outputs": [],
   "source": []
  },
  {
   "cell_type": "code",
   "execution_count": null,
   "id": "3524a3fd-beb9-49b3-9d3f-dbe4923add79",
   "metadata": {},
   "outputs": [],
   "source": []
  }
 ],
 "metadata": {
  "kernelspec": {
   "display_name": "Python 3 (ipykernel)",
   "language": "python",
   "name": "python3"
  },
  "language_info": {
   "codemirror_mode": {
    "name": "ipython",
    "version": 3
   },
   "file_extension": ".py",
   "mimetype": "text/x-python",
   "name": "python",
   "nbconvert_exporter": "python",
   "pygments_lexer": "ipython3",
   "version": "3.13.2"
  }
 },
 "nbformat": 4,
 "nbformat_minor": 5
}
