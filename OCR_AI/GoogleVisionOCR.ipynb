{
 "cells": [
  {
   "cell_type": "markdown",
   "id": "fb148272",
   "metadata": {},
   "source": [
    "# Google Vision OCR"
   ]
  },
  {
   "cell_type": "markdown",
   "id": "866ac9db",
   "metadata": {},
   "source": []
  }
 ],
 "metadata": {
  "language_info": {
   "name": "python"
  }
 },
 "nbformat": 4,
 "nbformat_minor": 5
}
